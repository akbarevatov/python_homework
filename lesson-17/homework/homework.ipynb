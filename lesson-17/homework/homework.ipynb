{
 "cells": [
  {
   "cell_type": "code",
   "execution_count": 45,
   "metadata": {},
   "outputs": [],
   "source": [
    "import pandas as pd\n",
    "import sqlite3\n",
    "import os\n",
    "import openpyxl\n",
    "os.chdir(r\"C:\\Users\\User\\Documents\\GitHub\\python_homework\\lesson-17\\homework\")\n",
    "\n",
    "with sqlite3.connect(\"../data/chinook.db\") as connection:\n",
    "    df_customers = pd.read_sql(\n",
    "        \"SELECT * FROM customers\",\n",
    "        con=connection\n",
    "    )\n",
    "    df_invoices = pd.read_sql(\n",
    "        \"SELECT * FROM invoices\",\n",
    "        con=connection\n",
    "    )\n",
    "\n"
   ]
  },
  {
   "cell_type": "markdown",
   "metadata": {},
   "source": [
    "## inner join ##"
   ]
  },
  {
   "cell_type": "code",
   "execution_count": 34,
   "metadata": {},
   "outputs": [
    {
     "data": {
      "text/html": [
       "<div>\n",
       "<style scoped>\n",
       "    .dataframe tbody tr th:only-of-type {\n",
       "        vertical-align: middle;\n",
       "    }\n",
       "\n",
       "    .dataframe tbody tr th {\n",
       "        vertical-align: top;\n",
       "    }\n",
       "\n",
       "    .dataframe thead th {\n",
       "        text-align: right;\n",
       "    }\n",
       "</style>\n",
       "<table border=\"1\" class=\"dataframe\">\n",
       "  <thead>\n",
       "    <tr style=\"text-align: right;\">\n",
       "      <th></th>\n",
       "      <th>CustomerId</th>\n",
       "      <th>FirstName</th>\n",
       "      <th>LastName</th>\n",
       "      <th>TotalInvoices</th>\n",
       "    </tr>\n",
       "  </thead>\n",
       "  <tbody>\n",
       "    <tr>\n",
       "      <th>0</th>\n",
       "      <td>1</td>\n",
       "      <td>Luís</td>\n",
       "      <td>Gonçalves</td>\n",
       "      <td>7</td>\n",
       "    </tr>\n",
       "    <tr>\n",
       "      <th>1</th>\n",
       "      <td>2</td>\n",
       "      <td>Leonie</td>\n",
       "      <td>Köhler</td>\n",
       "      <td>7</td>\n",
       "    </tr>\n",
       "    <tr>\n",
       "      <th>2</th>\n",
       "      <td>3</td>\n",
       "      <td>François</td>\n",
       "      <td>Tremblay</td>\n",
       "      <td>7</td>\n",
       "    </tr>\n",
       "    <tr>\n",
       "      <th>3</th>\n",
       "      <td>4</td>\n",
       "      <td>Bjørn</td>\n",
       "      <td>Hansen</td>\n",
       "      <td>7</td>\n",
       "    </tr>\n",
       "    <tr>\n",
       "      <th>4</th>\n",
       "      <td>5</td>\n",
       "      <td>František</td>\n",
       "      <td>Wichterlová</td>\n",
       "      <td>7</td>\n",
       "    </tr>\n",
       "  </tbody>\n",
       "</table>\n",
       "</div>"
      ],
      "text/plain": [
       "   CustomerId  FirstName     LastName  TotalInvoices\n",
       "0           1       Luís    Gonçalves              7\n",
       "1           2     Leonie       Köhler              7\n",
       "2           3   François     Tremblay              7\n",
       "3           4      Bjørn       Hansen              7\n",
       "4           5  František  Wichterlová              7"
      ]
     },
     "execution_count": 34,
     "metadata": {},
     "output_type": "execute_result"
    }
   ],
   "source": [
    "inner_join = pd.merge(df_customers, df_invoices, on=\"CustomerId\", how=\"inner\")\n",
    "total_invoices = inner_join.groupby([\"CustomerId\", \"FirstName\", \"LastName\"]).size().reset_index(name=\"TotalInvoices\")\n",
    "total_invoices.head()"
   ]
  },
  {
   "cell_type": "markdown",
   "metadata": {},
   "source": [
    "## outer join ##"
   ]
  },
  {
   "cell_type": "code",
   "execution_count": 44,
   "metadata": {},
   "outputs": [
    {
     "name": "stdout",
     "output_type": "stream",
     "text": [
      "Left join rows: 30300\n",
      "Outer join rows: 30300\n"
     ]
    }
   ],
   "source": [
    "df_movie = pd.read_csv(\"../data/movie.csv\")\n",
    "df_movie_1 = df_movie[[\"director_name\", \"color\"]]\n",
    "df_movie_2 = df_movie[[\"director_name\", \"num_critic_for_reviews\"]]\n",
    "left_join = pd.merge(df_movie_1, df_movie_2, on=\"director_name\", how=\"left\")\n",
    "outer_join = pd.merge(df_movie_1, df_movie_2, on=\"director_name\", how=\"outer\")\n",
    "print(f\"Left join rows: {left_join.shape[0]}\")\n",
    "print(f\"Outer join rows: {outer_join.shape[0]}\")"
   ]
  },
  {
   "cell_type": "markdown",
   "metadata": {},
   "source": [
    "## grouped aggregations on titanic ##"
   ]
  },
  {
   "cell_type": "code",
   "execution_count": 56,
   "metadata": {},
   "outputs": [
    {
     "data": {
      "text/html": [
       "<div>\n",
       "<style scoped>\n",
       "    .dataframe tbody tr th:only-of-type {\n",
       "        vertical-align: middle;\n",
       "    }\n",
       "\n",
       "    .dataframe tbody tr th {\n",
       "        vertical-align: top;\n",
       "    }\n",
       "\n",
       "    .dataframe thead th {\n",
       "        text-align: right;\n",
       "    }\n",
       "</style>\n",
       "<table border=\"1\" class=\"dataframe\">\n",
       "  <thead>\n",
       "    <tr style=\"text-align: right;\">\n",
       "      <th></th>\n",
       "      <th>Pclass</th>\n",
       "      <th>Age</th>\n",
       "      <th>Fare</th>\n",
       "      <th>TotalPassengers</th>\n",
       "    </tr>\n",
       "  </thead>\n",
       "  <tbody>\n",
       "    <tr>\n",
       "      <th>0</th>\n",
       "      <td>1</td>\n",
       "      <td>38.233441</td>\n",
       "      <td>18177.4125</td>\n",
       "      <td>216</td>\n",
       "    </tr>\n",
       "    <tr>\n",
       "      <th>1</th>\n",
       "      <td>2</td>\n",
       "      <td>29.877630</td>\n",
       "      <td>3801.8417</td>\n",
       "      <td>184</td>\n",
       "    </tr>\n",
       "    <tr>\n",
       "      <th>2</th>\n",
       "      <td>3</td>\n",
       "      <td>25.140620</td>\n",
       "      <td>6714.6951</td>\n",
       "      <td>491</td>\n",
       "    </tr>\n",
       "  </tbody>\n",
       "</table>\n",
       "</div>"
      ],
      "text/plain": [
       "   Pclass        Age        Fare  TotalPassengers\n",
       "0       1  38.233441  18177.4125              216\n",
       "1       2  29.877630   3801.8417              184\n",
       "2       3  25.140620   6714.6951              491"
      ]
     },
     "execution_count": 56,
     "metadata": {},
     "output_type": "execute_result"
    }
   ],
   "source": [
    "df_titanic = pd.read_excel(\"../data/titanic.xlsx\")\n",
    "df_titanic_info = df_titanic.groupby(\"Pclass\").agg({\n",
    "    \"Age\":\"mean\",\n",
    "    \"Fare\":\"sum\",\n",
    "    \"PassengerId\":\"count\"\n",
    "}).reset_index()\n",
    "df_titanic_info.columns = [\"Pclass\", \"Age\", \"Fare\", \"TotalPassengers\"]\n",
    "df_titanic_info"
   ]
  },
  {
   "cell_type": "markdown",
   "metadata": {},
   "source": [
    "## multi-level grouping on movie data ##"
   ]
  },
  {
   "cell_type": "code",
   "execution_count": 64,
   "metadata": {},
   "outputs": [
    {
     "data": {
      "text/html": [
       "<div>\n",
       "<style scoped>\n",
       "    .dataframe tbody tr th:only-of-type {\n",
       "        vertical-align: middle;\n",
       "    }\n",
       "\n",
       "    .dataframe tbody tr th {\n",
       "        vertical-align: top;\n",
       "    }\n",
       "\n",
       "    .dataframe thead th {\n",
       "        text-align: right;\n",
       "    }\n",
       "</style>\n",
       "<table border=\"1\" class=\"dataframe\">\n",
       "  <thead>\n",
       "    <tr style=\"text-align: right;\">\n",
       "      <th></th>\n",
       "      <th>color</th>\n",
       "      <th>director_name</th>\n",
       "      <th>num_critic_for_reviews</th>\n",
       "      <th>duration</th>\n",
       "    </tr>\n",
       "  </thead>\n",
       "  <tbody>\n",
       "    <tr>\n",
       "      <th>0</th>\n",
       "      <td>Black and White</td>\n",
       "      <td>Akira Kurosawa</td>\n",
       "      <td>153.0</td>\n",
       "      <td>202.0</td>\n",
       "    </tr>\n",
       "    <tr>\n",
       "      <th>1</th>\n",
       "      <td>Black and White</td>\n",
       "      <td>Aleksey German</td>\n",
       "      <td>121.0</td>\n",
       "      <td>177.0</td>\n",
       "    </tr>\n",
       "    <tr>\n",
       "      <th>2</th>\n",
       "      <td>Black and White</td>\n",
       "      <td>Alex Garland</td>\n",
       "      <td>489.0</td>\n",
       "      <td>108.0</td>\n",
       "    </tr>\n",
       "    <tr>\n",
       "      <th>3</th>\n",
       "      <td>Black and White</td>\n",
       "      <td>Alexander Payne</td>\n",
       "      <td>433.0</td>\n",
       "      <td>115.0</td>\n",
       "    </tr>\n",
       "    <tr>\n",
       "      <th>4</th>\n",
       "      <td>Black and White</td>\n",
       "      <td>Alfred Hitchcock</td>\n",
       "      <td>434.0</td>\n",
       "      <td>119.0</td>\n",
       "    </tr>\n",
       "    <tr>\n",
       "      <th>...</th>\n",
       "      <td>...</td>\n",
       "      <td>...</td>\n",
       "      <td>...</td>\n",
       "      <td>...</td>\n",
       "    </tr>\n",
       "    <tr>\n",
       "      <th>2485</th>\n",
       "      <td>Color</td>\n",
       "      <td>Zoran Lisinac</td>\n",
       "      <td>17.0</td>\n",
       "      <td>108.0</td>\n",
       "    </tr>\n",
       "    <tr>\n",
       "      <th>2486</th>\n",
       "      <td>Color</td>\n",
       "      <td>Álex de la Iglesia</td>\n",
       "      <td>71.0</td>\n",
       "      <td>104.0</td>\n",
       "    </tr>\n",
       "    <tr>\n",
       "      <th>2487</th>\n",
       "      <td>Color</td>\n",
       "      <td>Émile Gaudreault</td>\n",
       "      <td>67.0</td>\n",
       "      <td>92.0</td>\n",
       "    </tr>\n",
       "    <tr>\n",
       "      <th>2488</th>\n",
       "      <td>Color</td>\n",
       "      <td>Éric Tessier</td>\n",
       "      <td>9.0</td>\n",
       "      <td>99.0</td>\n",
       "    </tr>\n",
       "    <tr>\n",
       "      <th>2489</th>\n",
       "      <td>Color</td>\n",
       "      <td>Étienne Faure</td>\n",
       "      <td>9.0</td>\n",
       "      <td>98.0</td>\n",
       "    </tr>\n",
       "  </tbody>\n",
       "</table>\n",
       "<p>2490 rows × 4 columns</p>\n",
       "</div>"
      ],
      "text/plain": [
       "                color       director_name  num_critic_for_reviews  duration\n",
       "0     Black and White      Akira Kurosawa                   153.0     202.0\n",
       "1     Black and White      Aleksey German                   121.0     177.0\n",
       "2     Black and White        Alex Garland                   489.0     108.0\n",
       "3     Black and White     Alexander Payne                   433.0     115.0\n",
       "4     Black and White    Alfred Hitchcock                   434.0     119.0\n",
       "...               ...                 ...                     ...       ...\n",
       "2485            Color       Zoran Lisinac                    17.0     108.0\n",
       "2486            Color  Álex de la Iglesia                    71.0     104.0\n",
       "2487            Color    Émile Gaudreault                    67.0      92.0\n",
       "2488            Color        Éric Tessier                     9.0      99.0\n",
       "2489            Color       Étienne Faure                     9.0      98.0\n",
       "\n",
       "[2490 rows x 4 columns]"
      ]
     },
     "execution_count": 64,
     "metadata": {},
     "output_type": "execute_result"
    }
   ],
   "source": [
    "df_multi_level_grouping = df_movie.groupby([\"color\", \"director_name\"]).agg(\n",
    "    {\n",
    "        \"num_critic_for_reviews\":\"sum\",\n",
    "        \"duration\":\"mean\"\n",
    "    }\n",
    ").reset_index()\n",
    "df_multi_level_grouping"
   ]
  },
  {
   "cell_type": "markdown",
   "metadata": {},
   "source": [
    "## nested grouping on flights ##"
   ]
  },
  {
   "cell_type": "code",
   "execution_count": null,
   "metadata": {},
   "outputs": [],
   "source": []
  }
 ],
 "metadata": {
  "kernelspec": {
   "display_name": "Python 3",
   "language": "python",
   "name": "python3"
  },
  "language_info": {
   "codemirror_mode": {
    "name": "ipython",
    "version": 3
   },
   "file_extension": ".py",
   "mimetype": "text/x-python",
   "name": "python",
   "nbconvert_exporter": "python",
   "pygments_lexer": "ipython3",
   "version": "3.13.1"
  }
 },
 "nbformat": 4,
 "nbformat_minor": 2
}
